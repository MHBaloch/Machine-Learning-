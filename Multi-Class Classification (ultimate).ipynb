{
 "cells": [
  {
   "cell_type": "markdown",
   "metadata": {},
   "source": [
    "The file is for predicting failure type. The failure type column of the dataset is used. The model is a Support Vector Machine based classifier SVC which uses one-vs-rest approach for multi-class classification."
   ]
  },
  {
   "cell_type": "markdown",
   "metadata": {},
   "source": [
    "# Importing Libraries and Dataset"
   ]
  },
  {
   "cell_type": "code",
   "execution_count": 1,
   "metadata": {},
   "outputs": [],
   "source": [
    "# importing libraries\n",
    "import numpy as np\n",
    "import pandas as pd\n",
    "from numpy import unique, mean, std\n",
    "from sklearn.preprocessing import MinMaxScaler\n",
    "from sklearn.preprocessing import LabelEncoder\n",
    "from sklearn.utils import class_weight\n",
    "from sklearn.model_selection import train_test_split\n",
    "from sklearn.model_selection import cross_val_score\n",
    "from sklearn.dummy import DummyClassifier\n",
    "from sklearn.svm import SVC\n",
    "from sklearn.metrics import classification_report\n",
    "from sklearn.metrics import confusion_matrix\n",
    "from sklearn.metrics import ConfusionMatrixDisplay\n",
    "from sklearn.metrics import jaccard_score\n",
    "import warnings\n",
    "warnings.simplefilter('ignore')\n",
    "sns.set_theme(style=\"dark\")"
   ]
  },
  {
   "cell_type": "code",
   "execution_count": 2,
   "metadata": {},
   "outputs": [
    {
     "data": {
      "text/html": [
       "<div>\n",
       "<style scoped>\n",
       "    .dataframe tbody tr th:only-of-type {\n",
       "        vertical-align: middle;\n",
       "    }\n",
       "\n",
       "    .dataframe tbody tr th {\n",
       "        vertical-align: top;\n",
       "    }\n",
       "\n",
       "    .dataframe thead th {\n",
       "        text-align: right;\n",
       "    }\n",
       "</style>\n",
       "<table border=\"1\" class=\"dataframe\">\n",
       "  <thead>\n",
       "    <tr style=\"text-align: right;\">\n",
       "      <th></th>\n",
       "      <th>UDI</th>\n",
       "      <th>Product ID</th>\n",
       "      <th>Type</th>\n",
       "      <th>Air temperature [K]</th>\n",
       "      <th>Process temperature [K]</th>\n",
       "      <th>Rotational speed [rpm]</th>\n",
       "      <th>Torque [Nm]</th>\n",
       "      <th>Tool wear [min]</th>\n",
       "      <th>Target</th>\n",
       "      <th>Failure Type</th>\n",
       "    </tr>\n",
       "  </thead>\n",
       "  <tbody>\n",
       "    <tr>\n",
       "      <th>0</th>\n",
       "      <td>1</td>\n",
       "      <td>M14860</td>\n",
       "      <td>M</td>\n",
       "      <td>298.1</td>\n",
       "      <td>308.6</td>\n",
       "      <td>1551</td>\n",
       "      <td>42.8</td>\n",
       "      <td>0</td>\n",
       "      <td>0</td>\n",
       "      <td>No Failure</td>\n",
       "    </tr>\n",
       "    <tr>\n",
       "      <th>1</th>\n",
       "      <td>2</td>\n",
       "      <td>L47181</td>\n",
       "      <td>L</td>\n",
       "      <td>298.2</td>\n",
       "      <td>308.7</td>\n",
       "      <td>1408</td>\n",
       "      <td>46.3</td>\n",
       "      <td>3</td>\n",
       "      <td>0</td>\n",
       "      <td>No Failure</td>\n",
       "    </tr>\n",
       "  </tbody>\n",
       "</table>\n",
       "</div>"
      ],
      "text/plain": [
       "   UDI Product ID Type  Air temperature [K]  Process temperature [K]  \\\n",
       "0    1     M14860    M                298.1                    308.6   \n",
       "1    2     L47181    L                298.2                    308.7   \n",
       "\n",
       "   Rotational speed [rpm]  Torque [Nm]  Tool wear [min]  Target Failure Type  \n",
       "0                    1551         42.8                0       0   No Failure  \n",
       "1                    1408         46.3                3       0   No Failure  "
      ]
     },
     "execution_count": 2,
     "metadata": {},
     "output_type": "execute_result"
    }
   ],
   "source": [
    "# importing dataset from github\n",
    "url = \"https://raw.githubusercontent.com/MHBaloch/Machine-Learning-/main/Data.csv\" # importing url\n",
    "dataset = pd.read_csv(url) # reading data fro url\n",
    "data = dataset # creating dataframe\n",
    "data.head(2)"
   ]
  },
  {
   "cell_type": "markdown",
   "metadata": {},
   "source": [
    "# Data Pre-processing"
   ]
  },
  {
   "cell_type": "markdown",
   "metadata": {},
   "source": [
    "## Feature Engineering"
   ]
  },
  {
   "cell_type": "code",
   "execution_count": 3,
   "metadata": {},
   "outputs": [
    {
     "data": {
      "text/html": [
       "<div>\n",
       "<style scoped>\n",
       "    .dataframe tbody tr th:only-of-type {\n",
       "        vertical-align: middle;\n",
       "    }\n",
       "\n",
       "    .dataframe tbody tr th {\n",
       "        vertical-align: top;\n",
       "    }\n",
       "\n",
       "    .dataframe thead th {\n",
       "        text-align: right;\n",
       "    }\n",
       "</style>\n",
       "<table border=\"1\" class=\"dataframe\">\n",
       "  <thead>\n",
       "    <tr style=\"text-align: right;\">\n",
       "      <th></th>\n",
       "      <th>UDI</th>\n",
       "      <th>Product ID</th>\n",
       "      <th>Type</th>\n",
       "      <th>Air temperature [K]</th>\n",
       "      <th>Process temperature [K]</th>\n",
       "      <th>Rotational speed [rpm]</th>\n",
       "      <th>Torque [Nm]</th>\n",
       "      <th>Tool wear [min]</th>\n",
       "      <th>Target</th>\n",
       "      <th>Failure Type</th>\n",
       "      <th>Power</th>\n",
       "      <th>Overstrain</th>\n",
       "      <th>Temperature</th>\n",
       "    </tr>\n",
       "  </thead>\n",
       "  <tbody>\n",
       "    <tr>\n",
       "      <th>0</th>\n",
       "      <td>1</td>\n",
       "      <td>M14860</td>\n",
       "      <td>M</td>\n",
       "      <td>298.1</td>\n",
       "      <td>308.6</td>\n",
       "      <td>1551</td>\n",
       "      <td>42.8</td>\n",
       "      <td>0</td>\n",
       "      <td>0</td>\n",
       "      <td>No Failure</td>\n",
       "      <td>66382.8</td>\n",
       "      <td>0.0</td>\n",
       "      <td>10.5</td>\n",
       "    </tr>\n",
       "    <tr>\n",
       "      <th>1</th>\n",
       "      <td>2</td>\n",
       "      <td>L47181</td>\n",
       "      <td>L</td>\n",
       "      <td>298.2</td>\n",
       "      <td>308.7</td>\n",
       "      <td>1408</td>\n",
       "      <td>46.3</td>\n",
       "      <td>3</td>\n",
       "      <td>0</td>\n",
       "      <td>No Failure</td>\n",
       "      <td>65190.4</td>\n",
       "      <td>138.9</td>\n",
       "      <td>10.5</td>\n",
       "    </tr>\n",
       "    <tr>\n",
       "      <th>2</th>\n",
       "      <td>3</td>\n",
       "      <td>L47182</td>\n",
       "      <td>L</td>\n",
       "      <td>298.1</td>\n",
       "      <td>308.5</td>\n",
       "      <td>1498</td>\n",
       "      <td>49.4</td>\n",
       "      <td>5</td>\n",
       "      <td>0</td>\n",
       "      <td>No Failure</td>\n",
       "      <td>74001.2</td>\n",
       "      <td>247.0</td>\n",
       "      <td>10.4</td>\n",
       "    </tr>\n",
       "    <tr>\n",
       "      <th>3</th>\n",
       "      <td>4</td>\n",
       "      <td>L47183</td>\n",
       "      <td>L</td>\n",
       "      <td>298.2</td>\n",
       "      <td>308.6</td>\n",
       "      <td>1433</td>\n",
       "      <td>39.5</td>\n",
       "      <td>7</td>\n",
       "      <td>0</td>\n",
       "      <td>No Failure</td>\n",
       "      <td>56603.5</td>\n",
       "      <td>276.5</td>\n",
       "      <td>10.4</td>\n",
       "    </tr>\n",
       "    <tr>\n",
       "      <th>4</th>\n",
       "      <td>5</td>\n",
       "      <td>L47184</td>\n",
       "      <td>L</td>\n",
       "      <td>298.2</td>\n",
       "      <td>308.7</td>\n",
       "      <td>1408</td>\n",
       "      <td>40.0</td>\n",
       "      <td>9</td>\n",
       "      <td>0</td>\n",
       "      <td>No Failure</td>\n",
       "      <td>56320.0</td>\n",
       "      <td>360.0</td>\n",
       "      <td>10.5</td>\n",
       "    </tr>\n",
       "  </tbody>\n",
       "</table>\n",
       "</div>"
      ],
      "text/plain": [
       "   UDI Product ID Type  Air temperature [K]  Process temperature [K]  \\\n",
       "0    1     M14860    M                298.1                    308.6   \n",
       "1    2     L47181    L                298.2                    308.7   \n",
       "2    3     L47182    L                298.1                    308.5   \n",
       "3    4     L47183    L                298.2                    308.6   \n",
       "4    5     L47184    L                298.2                    308.7   \n",
       "\n",
       "   Rotational speed [rpm]  Torque [Nm]  Tool wear [min]  Target Failure Type  \\\n",
       "0                    1551         42.8                0       0   No Failure   \n",
       "1                    1408         46.3                3       0   No Failure   \n",
       "2                    1498         49.4                5       0   No Failure   \n",
       "3                    1433         39.5                7       0   No Failure   \n",
       "4                    1408         40.0                9       0   No Failure   \n",
       "\n",
       "     Power  Overstrain  Temperature  \n",
       "0  66382.8         0.0         10.5  \n",
       "1  65190.4       138.9         10.5  \n",
       "2  74001.2       247.0         10.4  \n",
       "3  56603.5       276.5         10.4  \n",
       "4  56320.0       360.0         10.5  "
      ]
     },
     "execution_count": 3,
     "metadata": {},
     "output_type": "execute_result"
    }
   ],
   "source": [
    "# creating new columns based on the input variables and described in data description\n",
    "data['Power'] = data['Rotational speed [rpm]']*data['Torque [Nm]'] # power column based on two input variables\n",
    "data['Overstrain'] = data['Tool wear [min]']*data['Torque [Nm]'] # overstrain column based on two input variables\n",
    "data['Temperature'] = data['Process temperature [K]']-data['Air temperature [K]'] # Temp column based on two input variables\n",
    "data.head()"
   ]
  },
  {
   "cell_type": "markdown",
   "metadata": {},
   "source": [
    "## Data Cleaning"
   ]
  },
  {
   "cell_type": "code",
   "execution_count": 4,
   "metadata": {},
   "outputs": [
    {
     "data": {
      "text/html": [
       "<div>\n",
       "<style scoped>\n",
       "    .dataframe tbody tr th:only-of-type {\n",
       "        vertical-align: middle;\n",
       "    }\n",
       "\n",
       "    .dataframe tbody tr th {\n",
       "        vertical-align: top;\n",
       "    }\n",
       "\n",
       "    .dataframe thead th {\n",
       "        text-align: right;\n",
       "    }\n",
       "</style>\n",
       "<table border=\"1\" class=\"dataframe\">\n",
       "  <thead>\n",
       "    <tr style=\"text-align: right;\">\n",
       "      <th></th>\n",
       "      <th>Type</th>\n",
       "      <th>Air temperature [K]</th>\n",
       "      <th>Process temperature [K]</th>\n",
       "      <th>Rotational speed [rpm]</th>\n",
       "      <th>Torque [Nm]</th>\n",
       "      <th>Tool wear [min]</th>\n",
       "      <th>Target</th>\n",
       "      <th>Failure Type</th>\n",
       "      <th>Power</th>\n",
       "      <th>Overstrain</th>\n",
       "      <th>Temperature</th>\n",
       "    </tr>\n",
       "  </thead>\n",
       "  <tbody>\n",
       "    <tr>\n",
       "      <th>0</th>\n",
       "      <td>M</td>\n",
       "      <td>298.1</td>\n",
       "      <td>308.6</td>\n",
       "      <td>1551</td>\n",
       "      <td>42.8</td>\n",
       "      <td>0</td>\n",
       "      <td>0</td>\n",
       "      <td>No Failure</td>\n",
       "      <td>66382.8</td>\n",
       "      <td>0.0</td>\n",
       "      <td>10.5</td>\n",
       "    </tr>\n",
       "    <tr>\n",
       "      <th>1</th>\n",
       "      <td>L</td>\n",
       "      <td>298.2</td>\n",
       "      <td>308.7</td>\n",
       "      <td>1408</td>\n",
       "      <td>46.3</td>\n",
       "      <td>3</td>\n",
       "      <td>0</td>\n",
       "      <td>No Failure</td>\n",
       "      <td>65190.4</td>\n",
       "      <td>138.9</td>\n",
       "      <td>10.5</td>\n",
       "    </tr>\n",
       "  </tbody>\n",
       "</table>\n",
       "</div>"
      ],
      "text/plain": [
       "  Type  Air temperature [K]  Process temperature [K]  Rotational speed [rpm]  \\\n",
       "0    M                298.1                    308.6                    1551   \n",
       "1    L                298.2                    308.7                    1408   \n",
       "\n",
       "   Torque [Nm]  Tool wear [min]  Target Failure Type    Power  Overstrain  \\\n",
       "0         42.8                0       0   No Failure  66382.8         0.0   \n",
       "1         46.3                3       0   No Failure  65190.4       138.9   \n",
       "\n",
       "   Temperature  \n",
       "0         10.5  \n",
       "1         10.5  "
      ]
     },
     "execution_count": 4,
     "metadata": {},
     "output_type": "execute_result"
    }
   ],
   "source": [
    "# droping nominal numerical features\n",
    "df = data.drop(['UDI','Product ID'], axis = 1)\n",
    "df.head(2)"
   ]
  },
  {
   "cell_type": "code",
   "execution_count": 5,
   "metadata": {},
   "outputs": [
    {
     "data": {
      "text/plain": [
       "348"
      ]
     },
     "execution_count": 5,
     "metadata": {},
     "output_type": "execute_result"
    }
   ],
   "source": [
    "# total count of failures except No Failure\n",
    "df_f_type = df[df['Failure Type'].isin(['Power Failure', 'Overstrain Failure', 'Heat Dissipation Failure', 'Tool Wear Failure', 'Random Failures'])]\n",
    "len(df_f_type) # returns the total failures except no failure"
   ]
  },
  {
   "cell_type": "code",
   "execution_count": 6,
   "metadata": {},
   "outputs": [
    {
     "data": {
      "text/plain": [
       "((10000, 13), (9973, 11))"
      ]
     },
     "execution_count": 6,
     "metadata": {},
     "output_type": "execute_result"
    }
   ],
   "source": [
    "# dropping wrong/ambiguous values\n",
    "df_failure = df[df['Target']>=1] # samples where target is 1\n",
    "df_f_true = df_failure[df_failure['Failure Type']!='No Failure'] # samples where target is 1 but failure type is no failutre\n",
    "df_no_f_true = df[(df['Failure Type']=='No Failure') & (df['Target']<=0)] # true no failure columns\n",
    "df_true = pd.concat([df_f_true,df_no_f_true]).reset_index(drop=True) # true insatnces without ambiguity\n",
    "data.shape ,df_true.shape"
   ]
  },
  {
   "cell_type": "markdown",
   "metadata": {},
   "source": [
    "## Data Transformation"
   ]
  },
  {
   "cell_type": "code",
   "execution_count": 7,
   "metadata": {},
   "outputs": [
    {
     "name": "stdout",
     "output_type": "stream",
     "text": [
      "['Heat Dissipation Failure' 'No Failure' 'Overstrain Failure'\n",
      " 'Power Failure' 'Tool Wear Failure']\n"
     ]
    },
    {
     "data": {
      "text/html": [
       "<div>\n",
       "<style scoped>\n",
       "    .dataframe tbody tr th:only-of-type {\n",
       "        vertical-align: middle;\n",
       "    }\n",
       "\n",
       "    .dataframe tbody tr th {\n",
       "        vertical-align: top;\n",
       "    }\n",
       "\n",
       "    .dataframe thead th {\n",
       "        text-align: right;\n",
       "    }\n",
       "</style>\n",
       "<table border=\"1\" class=\"dataframe\">\n",
       "  <thead>\n",
       "    <tr style=\"text-align: right;\">\n",
       "      <th></th>\n",
       "      <th>Type</th>\n",
       "      <th>Air temperature [K]</th>\n",
       "      <th>Process temperature [K]</th>\n",
       "      <th>Rotational speed [rpm]</th>\n",
       "      <th>Torque [Nm]</th>\n",
       "      <th>Tool wear [min]</th>\n",
       "      <th>Target</th>\n",
       "      <th>Failure Type</th>\n",
       "      <th>Power</th>\n",
       "      <th>Overstrain</th>\n",
       "      <th>Temperature</th>\n",
       "    </tr>\n",
       "  </thead>\n",
       "  <tbody>\n",
       "    <tr>\n",
       "      <th>0</th>\n",
       "      <td>L</td>\n",
       "      <td>298.9</td>\n",
       "      <td>309.1</td>\n",
       "      <td>2861</td>\n",
       "      <td>4.6</td>\n",
       "      <td>143</td>\n",
       "      <td>1</td>\n",
       "      <td>3</td>\n",
       "      <td>13160.6</td>\n",
       "      <td>657.8</td>\n",
       "      <td>10.2</td>\n",
       "    </tr>\n",
       "    <tr>\n",
       "      <th>1</th>\n",
       "      <td>L</td>\n",
       "      <td>298.9</td>\n",
       "      <td>309.0</td>\n",
       "      <td>1410</td>\n",
       "      <td>65.7</td>\n",
       "      <td>191</td>\n",
       "      <td>1</td>\n",
       "      <td>3</td>\n",
       "      <td>92637.0</td>\n",
       "      <td>12548.7</td>\n",
       "      <td>10.1</td>\n",
       "    </tr>\n",
       "    <tr>\n",
       "      <th>2</th>\n",
       "      <td>L</td>\n",
       "      <td>298.8</td>\n",
       "      <td>308.9</td>\n",
       "      <td>1455</td>\n",
       "      <td>41.3</td>\n",
       "      <td>208</td>\n",
       "      <td>1</td>\n",
       "      <td>4</td>\n",
       "      <td>60091.5</td>\n",
       "      <td>8590.4</td>\n",
       "      <td>10.1</td>\n",
       "    </tr>\n",
       "    <tr>\n",
       "      <th>3</th>\n",
       "      <td>L</td>\n",
       "      <td>298.4</td>\n",
       "      <td>308.2</td>\n",
       "      <td>1282</td>\n",
       "      <td>60.7</td>\n",
       "      <td>216</td>\n",
       "      <td>1</td>\n",
       "      <td>2</td>\n",
       "      <td>77817.4</td>\n",
       "      <td>13111.2</td>\n",
       "      <td>9.8</td>\n",
       "    </tr>\n",
       "    <tr>\n",
       "      <th>4</th>\n",
       "      <td>L</td>\n",
       "      <td>298.3</td>\n",
       "      <td>308.1</td>\n",
       "      <td>1412</td>\n",
       "      <td>52.3</td>\n",
       "      <td>218</td>\n",
       "      <td>1</td>\n",
       "      <td>2</td>\n",
       "      <td>73847.6</td>\n",
       "      <td>11401.4</td>\n",
       "      <td>9.8</td>\n",
       "    </tr>\n",
       "  </tbody>\n",
       "</table>\n",
       "</div>"
      ],
      "text/plain": [
       "  Type  Air temperature [K]  Process temperature [K]  Rotational speed [rpm]  \\\n",
       "0    L                298.9                    309.1                    2861   \n",
       "1    L                298.9                    309.0                    1410   \n",
       "2    L                298.8                    308.9                    1455   \n",
       "3    L                298.4                    308.2                    1282   \n",
       "4    L                298.3                    308.1                    1412   \n",
       "\n",
       "   Torque [Nm]  Tool wear [min]  Target  Failure Type    Power  Overstrain  \\\n",
       "0          4.6              143       1             3  13160.6       657.8   \n",
       "1         65.7              191       1             3  92637.0     12548.7   \n",
       "2         41.3              208       1             4  60091.5      8590.4   \n",
       "3         60.7              216       1             2  77817.4     13111.2   \n",
       "4         52.3              218       1             2  73847.6     11401.4   \n",
       "\n",
       "   Temperature  \n",
       "0         10.2  \n",
       "1         10.1  \n",
       "2         10.1  \n",
       "3          9.8  \n",
       "4          9.8  "
      ]
     },
     "execution_count": 7,
     "metadata": {},
     "output_type": "execute_result"
    }
   ],
   "source": [
    "# labeling categorical column 'Failure Type' with numerical values.\n",
    "df_ = df_true.copy() # creating a copy of original df\n",
    "encoder = LabelEncoder() # defining encoder\n",
    "df_['Failure Type'] = encoder.fit_transform(df_['Failure Type']) # encoding the class labels\n",
    "print(encoder.classes_)# printing encoded label classes as per the encoding scheme starting from 0\n",
    "df_.head()\n",
    "# source (https://scikit-learn.org/stable/modules/generated/sklearn.preprocessing.LabelEncoder.html)"
   ]
  },
  {
   "cell_type": "markdown",
   "metadata": {},
   "source": [
    "# Data Preparation for Multi-Class Classification"
   ]
  },
  {
   "cell_type": "code",
   "execution_count": 8,
   "metadata": {},
   "outputs": [
    {
     "data": {
      "text/plain": [
       "((7978, 8), (7978,), (1995, 8), (1995,))"
      ]
     },
     "execution_count": 8,
     "metadata": {},
     "output_type": "execute_result"
    }
   ],
   "source": [
    "# train_test_split based on Target column and 80:20 ratio\n",
    "X = df_.drop(columns=['Target', 'Failure Type', 'Type']) # defining X variable\n",
    "y = df_['Failure Type'] # defining y variable\n",
    "X_train, X_test, y_train, y_test = train_test_split(X,y, test_size = 0.20, random_state=1, stratify=y) # train_test split\n",
    "X_train.shape, y_train.shape, X_test.shape, y_test.shape # shape of the train and test subsets\n",
    "# reason to drop type is that other failure types are not predicted right so it is to reduce dimensionality\n",
    "# source (https://scikit-learn.org/stable/modules/generated/sklearn.model_selection.train_test_split.html)"
   ]
  },
  {
   "cell_type": "code",
   "execution_count": 9,
   "metadata": {},
   "outputs": [
    {
     "data": {
      "text/plain": [
       "((6382, 8), (1596, 8), (1995, 8), (6382,), (1596,), (1995,))"
      ]
     },
     "execution_count": 9,
     "metadata": {},
     "output_type": "execute_result"
    }
   ],
   "source": [
    "# creating validation subset\n",
    "X_train, X_val, y_train, y_val = train_test_split(X_train, y_train, test_size=0.20, random_state=0) # train_test split for val\n",
    "X_train.shape, X_val.shape, X_test.shape, y_train.shape, y_val.shape, y_test.shape  # final count of all subsets\n",
    "# source (https://scikit-learn.org/stable/modules/generated/sklearn.model_selection.train_test_split.html)"
   ]
  },
  {
   "cell_type": "markdown",
   "metadata": {},
   "source": [
    "## Feature Scaling"
   ]
  },
  {
   "cell_type": "code",
   "execution_count": 10,
   "metadata": {},
   "outputs": [],
   "source": [
    "# normalizing continuous features\n",
    "scaler = MinMaxScaler() # defining scaler\n",
    "X_train = scaler.fit_transform(X_train) # scaler applied on train subset\n",
    "X_val = scaler.fit_transform(X_val) # scaler applied on validation subset\n",
    "X_test = scaler.fit_transform(X_test) # scaler applied on test subset\n",
    "# source (https://scikit-learn.org/stable/modules/generated/sklearn.preprocessing.MinMaxScaler.html)"
   ]
  },
  {
   "cell_type": "markdown",
   "metadata": {},
   "source": [
    "# Imbalance Treatment"
   ]
  },
  {
   "cell_type": "code",
   "execution_count": 11,
   "metadata": {},
   "outputs": [
    {
     "data": {
      "text/plain": [
       "array([17.72777778,  0.2069726 , 23.20727273, 20.58709677, 49.09230769])"
      ]
     },
     "execution_count": 11,
     "metadata": {},
     "output_type": "execute_result"
    }
   ],
   "source": [
    "# getting class weights of failure type\n",
    "class_weight = class_weight.compute_class_weight(class_weight = \"balanced\", classes = np.unique(y_train), y = y_train)\n",
    "class_weight\n",
    "# source (https://scikit-learn.org/stable/modules/generated/sklearn.utils.class_weight.compute_class_weight.html)"
   ]
  },
  {
   "cell_type": "code",
   "execution_count": 12,
   "metadata": {},
   "outputs": [
    {
     "data": {
      "text/plain": [
       "{0: 17.727777777777778,\n",
       " 1: 0.20697259607588778,\n",
       " 2: 23.207272727272727,\n",
       " 3: 20.587096774193547,\n",
       " 4: 49.09230769230769}"
      ]
     },
     "execution_count": 12,
     "metadata": {},
     "output_type": "execute_result"
    }
   ],
   "source": [
    "# creating dictionary for class weights\n",
    "class_weight = dict(zip(np.unique(y_train), class_weight))\n",
    "class_weight\n",
    "# source (https://stackoverflow.com/questions/69783897/compute-class-weight-function-issue-in-sklearn-library-when-used-in-keras-cl)"
   ]
  },
  {
   "cell_type": "markdown",
   "metadata": {},
   "source": [
    "# Baseline Model"
   ]
  },
  {
   "cell_type": "code",
   "execution_count": null,
   "metadata": {},
   "outputs": [],
   "source": [
    "# baseline model for comparison\n",
    "dummy = DummyClassifier() # declaring classifier\n",
    "dummy.fit(X_train, y_train) # fitting model\n",
    "dummy.score(X_train, y_train) # score of model\n",
    "# source (https://scikit-learn.org/stable/modules/generated/sklearn.dummy.DummyClassifier.html)"
   ]
  },
  {
   "cell_type": "markdown",
   "metadata": {},
   "source": [
    "# Model Building"
   ]
  },
  {
   "cell_type": "code",
   "execution_count": 14,
   "metadata": {},
   "outputs": [],
   "source": [
    "# SVC with one-vs-rest approach and optimized is used as final model\n",
    "final_model = SVC(kernel='rbf', C=10, gamma=0.1, class_weight=class_weight, random_state=0) \n",
    "# source (https://scikit-learn.org/stable/modules/generated/sklearn.svm.SVC.html)"
   ]
  },
  {
   "cell_type": "code",
   "execution_count": 15,
   "metadata": {},
   "outputs": [
    {
     "data": {
      "text/plain": [
       "<bound method BaseEstimator.get_params of SVC(C=10,\n",
       "    class_weight={0: 17.727777777777778, 1: 0.20697259607588778,\n",
       "                  2: 23.207272727272727, 3: 20.587096774193547,\n",
       "                  4: 49.09230769230769},\n",
       "    gamma=0.1, random_state=0)>"
      ]
     },
     "execution_count": 15,
     "metadata": {},
     "output_type": "execute_result"
    }
   ],
   "source": [
    "final_model.get_params # hyperparameters"
   ]
  },
  {
   "cell_type": "markdown",
   "metadata": {},
   "source": [
    "## Model Evaluation"
   ]
  },
  {
   "cell_type": "code",
   "execution_count": null,
   "metadata": {},
   "outputs": [],
   "source": [
    "# 3 fold cross validation\n",
    "score_train = cross_val_score(final_model, X_train, y_train, cv=3, scoring = 'f1_macro')\n",
    "print('F1_macro: %.3f (%.3f)' % (mean(score_train), std(score_train))) # printing mean scores and mean standard deviation\n",
    "# source (https://scikit-learn.org/stable/modules/cross_validation.html)"
   ]
  },
  {
   "cell_type": "code",
   "execution_count": null,
   "metadata": {},
   "outputs": [],
   "source": [
    "# model validation\n",
    "# classification report\n",
    "#final_model.fit(X_train, y_train) # please remove '#' if intended to vaildate model\n",
    "y_pred = final_model.predict(X_val) # declaring prediction variable\n",
    "print(classification_report(y_val, y_pred)) # classification report based on validation subset\n",
    "# source (https://scikit-learn.org/stable/modules/generated/sklearn.metrics.classification_report.html)"
   ]
  },
  {
   "cell_type": "code",
   "execution_count": null,
   "metadata": {},
   "outputs": [],
   "source": [
    "# confusion matrix\n",
    "c_matrix = confusion_matrix(y_val, y_pred, labels=final_model.classes_) # confusion matrix of validation subset\n",
    "display = ConfusionMatrixDisplay(confusion_matrix=c_matrix, display_labels=final_model.classes_) # displaying c.matrix\n",
    "display.plot()\n",
    "plt.suptitle('Final Model') # used for title of the plot\n",
    "plt.show()\n",
    "# source (https://scikit-learn.org/stable/modules/generated/sklearn.metrics.confusion_matrix.html)\n",
    "# sourcs (https://scikit-learn.org/stable/modules/generated/sklearn.metrics.ConfusionMatrixDisplay.html)"
   ]
  },
  {
   "cell_type": "markdown",
   "metadata": {},
   "source": [
    "# Model Validation "
   ]
  },
  {
   "cell_type": "code",
   "execution_count": 16,
   "metadata": {},
   "outputs": [
    {
     "name": "stdout",
     "output_type": "stream",
     "text": [
      "              precision    recall  f1-score   support\n",
      "\n",
      "           0       0.27      1.00      0.42        22\n",
      "           1       1.00      0.79      0.88      1929\n",
      "           2       0.28      1.00      0.43        16\n",
      "           3       0.37      0.89      0.52        19\n",
      "           4       0.03      0.78      0.05         9\n",
      "\n",
      "    accuracy                           0.80      1995\n",
      "   macro avg       0.39      0.89      0.46      1995\n",
      "weighted avg       0.98      0.80      0.87      1995\n",
      "\n"
     ]
    }
   ],
   "source": [
    "# ultimate validation of the model on unseen test data\n",
    "final_model.fit(X_train, y_train) # fitting model on train data\n",
    "y_predict = final_model.predict(X_test) # declaring test prediction variable\n",
    "print(classification_report(y_test, y_predict)) # classification report based on test subset\n",
    "# source (https://scikit-learn.org/stable/modules/generated/sklearn.metrics.classification_report.html)"
   ]
  },
  {
   "cell_type": "code",
   "execution_count": 17,
   "metadata": {},
   "outputs": [
    {
     "data": {
      "image/png": "[encoded data removed]",
      "text/plain": [
       "<Figure size 432x288 with 2 Axes>"
      ]
     },
     "metadata": {},
     "output_type": "display_data"
    }
   ],
   "source": [
    "# confusion matrix for \n",
    "c_matrix = confusion_matrix(y_test, y_predict, labels=final_model.classes_) # confusion matrix of test subset\n",
    "display = ConfusionMatrixDisplay(confusion_matrix=c_matrix, display_labels=final_model.classes_) # displaying c.matrix\n",
    "display.plot()\n",
    "plt.suptitle('Final Model') # used for title of the plot\n",
    "plt.show()\n",
    "# source (https://scikit-learn.org/stable/modules/generated/sklearn.metrics.confusion_matrix.html)\n",
    "# sourcs (https://scikit-learn.org/stable/modules/generated/sklearn.metrics.ConfusionMatrixDisplay.html)"
   ]
  },
  {
   "cell_type": "code",
   "execution_count": 24,
   "metadata": {},
   "outputs": [
    {
     "data": {
      "text/plain": [
       "0.3431565572963962"
      ]
     },
     "execution_count": 24,
     "metadata": {},
     "output_type": "execute_result"
    }
   ],
   "source": [
    "jaccard_score(y_test, y_predict, average='macro')\n",
    "# source (https://scikit-learn.org/stable/modules/generated/sklearn.metrics.jaccard_score.html#sklearn.metrics.jaccard_score)"
   ]
  },
  {
   "cell_type": "markdown",
   "metadata": {},
   "source": [
    "All the actual failures Heat Dissipation Failure, Power Failure, Overstarain Failure and Tool Wear Failure are predicted accurately. However the no failure is incorrectly predicted around 20% of the total instances but its not as important as the actual failures.\n",
    "While trying to improve recall, now 89% on macro average after improving, which is actually the true positivity rate and is essential as per the business problem i.e. predicting the failure, the precision dropped. The problem is about an imbalanced data therefore weighted scores are important. The accuracy and f1-score weighted average of the model are 80% and 87% respectively."
   ]
  },
  {
   "cell_type": "code",
   "execution_count": null,
   "metadata": {},
   "outputs": [],
   "source": []
  }
 ],
 "metadata": {
  "kernelspec": {
   "display_name": "Python 3 (ipykernel)",
   "language": "python",
   "name": "python3"
  },
  "language_info": {
   "codemirror_mode": {
    "name": "ipython",
    "version": 3
   },
   "file_extension": ".py",
   "mimetype": "text/x-python",
   "name": "python",
   "nbconvert_exporter": "python",
   "pygments_lexer": "ipython3",
   "version": "3.9.12"
  }
 },
 "nbformat": 4,
 "nbformat_minor": 4
}
