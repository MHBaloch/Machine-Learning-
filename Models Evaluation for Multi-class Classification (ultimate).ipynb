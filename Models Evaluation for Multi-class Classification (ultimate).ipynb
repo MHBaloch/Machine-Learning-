{
 "cells": [
  {
   "cell_type": "markdown",
   "id": "bb3e2662",
   "metadata": {},
   "source": [
    "# Importing Libraries and Dataset"
   ]
  },
  {
   "cell_type": "code",
   "execution_count": 1,
   "id": "fc5afa36",
   "metadata": {},
   "outputs": [],
   "source": [
    "# importing libraries\n",
    "import numpy as np\n",
    "import pandas as pd\n",
    "import matplotlib.pyplot as plt\n",
    "import seaborn as sns\n",
    "from numpy import unique, mean, std\n",
    "from sklearn.preprocessing import MinMaxScaler\n",
    "from sklearn.preprocessing import LabelEncoder\n",
    "from sklearn.model_selection import train_test_split\n",
    "from sklearn.model_selection import cross_val_score\n",
    "from sklearn.dummy import DummyClassifier\n",
    "from sklearn.svm import SVC\n",
    "from sklearn.linear_model import LinearRegression\n",
    "from sklearn.linear_model import LogisticRegression\n",
    "from sklearn.naive_bayes import GaussianNB\n",
    "from sklearn.tree import DecisionTreeClassifier\n",
    "from sklearn.neighbors import KNeighborsClassifier\n",
    "from sklearn.ensemble import RandomForestClassifier\n",
    "from sklearn.ensemble import GradientBoostingClassifier\n",
    "from sklearn.ensemble import AdaBoostClassifier\n",
    "from sklearn.linear_model import SGDClassifier\n",
    "from sklearn.ensemble import StackingClassifier\n",
    "from sklearn.metrics import roc_curve\n",
    "from sklearn.metrics import plot_roc_curve\n",
    "from sklearn.metrics import confusion_matrix\n",
    "from sklearn.metrics import ConfusionMatrixDisplay\n",
    "from sklearn.metrics import classification_report\n",
    "from imblearn.over_sampling import SMOTE\n",
    "from sklearn.pipeline import Pipeline\n",
    "from sklearn.model_selection import KFold\n",
    "from sklearn.model_selection import GridSearchCV\n",
    "import warnings\n",
    "warnings.simplefilter('ignore')\n",
    "sns.set_theme(style=\"dark\")"
   ]
  },
  {
   "cell_type": "code",
   "execution_count": 22,
   "id": "7e1e1288",
   "metadata": {},
   "outputs": [
    {
     "data": {
      "text/html": [
       "<div>\n",
       "<style scoped>\n",
       "    .dataframe tbody tr th:only-of-type {\n",
       "        vertical-align: middle;\n",
       "    }\n",
       "\n",
       "    .dataframe tbody tr th {\n",
       "        vertical-align: top;\n",
       "    }\n",
       "\n",
       "    .dataframe thead th {\n",
       "        text-align: right;\n",
       "    }\n",
       "</style>\n",
       "<table border=\"1\" class=\"dataframe\">\n",
       "  <thead>\n",
       "    <tr style=\"text-align: right;\">\n",
       "      <th></th>\n",
       "      <th>UDI</th>\n",
       "      <th>Product ID</th>\n",
       "      <th>Type</th>\n",
       "      <th>Air temperature [K]</th>\n",
       "      <th>Process temperature [K]</th>\n",
       "      <th>Rotational speed [rpm]</th>\n",
       "      <th>Torque [Nm]</th>\n",
       "      <th>Tool wear [min]</th>\n",
       "      <th>Target</th>\n",
       "      <th>Failure Type</th>\n",
       "    </tr>\n",
       "  </thead>\n",
       "  <tbody>\n",
       "    <tr>\n",
       "      <th>0</th>\n",
       "      <td>1</td>\n",
       "      <td>M14860</td>\n",
       "      <td>M</td>\n",
       "      <td>298.1</td>\n",
       "      <td>308.6</td>\n",
       "      <td>1551</td>\n",
       "      <td>42.8</td>\n",
       "      <td>0</td>\n",
       "      <td>0</td>\n",
       "      <td>No Failure</td>\n",
       "    </tr>\n",
       "    <tr>\n",
       "      <th>1</th>\n",
       "      <td>2</td>\n",
       "      <td>L47181</td>\n",
       "      <td>L</td>\n",
       "      <td>298.2</td>\n",
       "      <td>308.7</td>\n",
       "      <td>1408</td>\n",
       "      <td>46.3</td>\n",
       "      <td>3</td>\n",
       "      <td>0</td>\n",
       "      <td>No Failure</td>\n",
       "    </tr>\n",
       "  </tbody>\n",
       "</table>\n",
       "</div>"
      ],
      "text/plain": [
       "   UDI Product ID Type  Air temperature [K]  Process temperature [K]  \\\n",
       "0    1     M14860    M                298.1                    308.6   \n",
       "1    2     L47181    L                298.2                    308.7   \n",
       "\n",
       "   Rotational speed [rpm]  Torque [Nm]  Tool wear [min]  Target Failure Type  \n",
       "0                    1551         42.8                0       0   No Failure  \n",
       "1                    1408         46.3                3       0   No Failure  "
      ]
     },
     "execution_count": 22,
     "metadata": {},
     "output_type": "execute_result"
    }
   ],
   "source": [
    "# importing dataset from github\n",
    "url = \"https://raw.githubusercontent.com/MHBaloch/Machine-Learning-/main/Data.csv\" # importing url\n",
    "dataset = pd.read_csv(url) # reading data fro url\n",
    "data = dataset # creating dataframe\n",
    "data.head(2)"
   ]
  },
  {
   "cell_type": "markdown",
   "id": "8ae15657",
   "metadata": {},
   "source": [
    "# Data Pre-processing"
   ]
  },
  {
   "cell_type": "markdown",
   "id": "62f93780",
   "metadata": {},
   "source": [
    "## Feature Engineering"
   ]
  },
  {
   "cell_type": "code",
   "execution_count": 3,
   "id": "7f282374",
   "metadata": {},
   "outputs": [
    {
     "data": {
      "text/html": [
       "<div>\n",
       "<style scoped>\n",
       "    .dataframe tbody tr th:only-of-type {\n",
       "        vertical-align: middle;\n",
       "    }\n",
       "\n",
       "    .dataframe tbody tr th {\n",
       "        vertical-align: top;\n",
       "    }\n",
       "\n",
       "    .dataframe thead th {\n",
       "        text-align: right;\n",
       "    }\n",
       "</style>\n",
       "<table border=\"1\" class=\"dataframe\">\n",
       "  <thead>\n",
       "    <tr style=\"text-align: right;\">\n",
       "      <th></th>\n",
       "      <th>UDI</th>\n",
       "      <th>Product ID</th>\n",
       "      <th>Type</th>\n",
       "      <th>Air temperature [K]</th>\n",
       "      <th>Process temperature [K]</th>\n",
       "      <th>Rotational speed [rpm]</th>\n",
       "      <th>Torque [Nm]</th>\n",
       "      <th>Tool wear [min]</th>\n",
       "      <th>Target</th>\n",
       "      <th>Failure Type</th>\n",
       "      <th>Power</th>\n",
       "      <th>Overstrain</th>\n",
       "      <th>Temperature</th>\n",
       "    </tr>\n",
       "  </thead>\n",
       "  <tbody>\n",
       "    <tr>\n",
       "      <th>0</th>\n",
       "      <td>1</td>\n",
       "      <td>M14860</td>\n",
       "      <td>M</td>\n",
       "      <td>298.1</td>\n",
       "      <td>308.6</td>\n",
       "      <td>1551</td>\n",
       "      <td>42.8</td>\n",
       "      <td>0</td>\n",
       "      <td>0</td>\n",
       "      <td>No Failure</td>\n",
       "      <td>66382.8</td>\n",
       "      <td>0.0</td>\n",
       "      <td>10.5</td>\n",
       "    </tr>\n",
       "    <tr>\n",
       "      <th>1</th>\n",
       "      <td>2</td>\n",
       "      <td>L47181</td>\n",
       "      <td>L</td>\n",
       "      <td>298.2</td>\n",
       "      <td>308.7</td>\n",
       "      <td>1408</td>\n",
       "      <td>46.3</td>\n",
       "      <td>3</td>\n",
       "      <td>0</td>\n",
       "      <td>No Failure</td>\n",
       "      <td>65190.4</td>\n",
       "      <td>138.9</td>\n",
       "      <td>10.5</td>\n",
       "    </tr>\n",
       "    <tr>\n",
       "      <th>2</th>\n",
       "      <td>3</td>\n",
       "      <td>L47182</td>\n",
       "      <td>L</td>\n",
       "      <td>298.1</td>\n",
       "      <td>308.5</td>\n",
       "      <td>1498</td>\n",
       "      <td>49.4</td>\n",
       "      <td>5</td>\n",
       "      <td>0</td>\n",
       "      <td>No Failure</td>\n",
       "      <td>74001.2</td>\n",
       "      <td>247.0</td>\n",
       "      <td>10.4</td>\n",
       "    </tr>\n",
       "    <tr>\n",
       "      <th>3</th>\n",
       "      <td>4</td>\n",
       "      <td>L47183</td>\n",
       "      <td>L</td>\n",
       "      <td>298.2</td>\n",
       "      <td>308.6</td>\n",
       "      <td>1433</td>\n",
       "      <td>39.5</td>\n",
       "      <td>7</td>\n",
       "      <td>0</td>\n",
       "      <td>No Failure</td>\n",
       "      <td>56603.5</td>\n",
       "      <td>276.5</td>\n",
       "      <td>10.4</td>\n",
       "    </tr>\n",
       "    <tr>\n",
       "      <th>4</th>\n",
       "      <td>5</td>\n",
       "      <td>L47184</td>\n",
       "      <td>L</td>\n",
       "      <td>298.2</td>\n",
       "      <td>308.7</td>\n",
       "      <td>1408</td>\n",
       "      <td>40.0</td>\n",
       "      <td>9</td>\n",
       "      <td>0</td>\n",
       "      <td>No Failure</td>\n",
       "      <td>56320.0</td>\n",
       "      <td>360.0</td>\n",
       "      <td>10.5</td>\n",
       "    </tr>\n",
       "  </tbody>\n",
       "</table>\n",
       "</div>"
      ],
      "text/plain": [
       "   UDI Product ID Type  Air temperature [K]  Process temperature [K]  \\\n",
       "0    1     M14860    M                298.1                    308.6   \n",
       "1    2     L47181    L                298.2                    308.7   \n",
       "2    3     L47182    L                298.1                    308.5   \n",
       "3    4     L47183    L                298.2                    308.6   \n",
       "4    5     L47184    L                298.2                    308.7   \n",
       "\n",
       "   Rotational speed [rpm]  Torque [Nm]  Tool wear [min]  Target Failure Type  \\\n",
       "0                    1551         42.8                0       0   No Failure   \n",
       "1                    1408         46.3                3       0   No Failure   \n",
       "2                    1498         49.4                5       0   No Failure   \n",
       "3                    1433         39.5                7       0   No Failure   \n",
       "4                    1408         40.0                9       0   No Failure   \n",
       "\n",
       "     Power  Overstrain  Temperature  \n",
       "0  66382.8         0.0         10.5  \n",
       "1  65190.4       138.9         10.5  \n",
       "2  74001.2       247.0         10.4  \n",
       "3  56603.5       276.5         10.4  \n",
       "4  56320.0       360.0         10.5  "
      ]
     },
     "execution_count": 3,
     "metadata": {},
     "output_type": "execute_result"
    }
   ],
   "source": [
    "# creating new columns based on the input variables and described in data description\n",
    "data['Power'] = data['Rotational speed [rpm]']*data['Torque [Nm]']\n",
    "data['Overstrain'] = data['Tool wear [min]']*data['Torque [Nm]']\n",
    "data['Temperature'] = data['Process temperature [K]']-data['Air temperature [K]']\n",
    "#data_df = data.drop(['Air temperature [K]','Process temperature [K]','Torque [Nm]'], axis=1)\n",
    "data.head()"
   ]
  },
  {
   "cell_type": "markdown",
   "id": "316f16c0",
   "metadata": {},
   "source": [
    "## Data Cleaning"
   ]
  },
  {
   "cell_type": "code",
   "execution_count": 4,
   "id": "a8ef81ad",
   "metadata": {},
   "outputs": [
    {
     "data": {
      "text/html": [
       "<div>\n",
       "<style scoped>\n",
       "    .dataframe tbody tr th:only-of-type {\n",
       "        vertical-align: middle;\n",
       "    }\n",
       "\n",
       "    .dataframe tbody tr th {\n",
       "        vertical-align: top;\n",
       "    }\n",
       "\n",
       "    .dataframe thead th {\n",
       "        text-align: right;\n",
       "    }\n",
       "</style>\n",
       "<table border=\"1\" class=\"dataframe\">\n",
       "  <thead>\n",
       "    <tr style=\"text-align: right;\">\n",
       "      <th></th>\n",
       "      <th>Type</th>\n",
       "      <th>Air temperature [K]</th>\n",
       "      <th>Process temperature [K]</th>\n",
       "      <th>Rotational speed [rpm]</th>\n",
       "      <th>Torque [Nm]</th>\n",
       "      <th>Tool wear [min]</th>\n",
       "      <th>Target</th>\n",
       "      <th>Failure Type</th>\n",
       "      <th>Power</th>\n",
       "      <th>Overstrain</th>\n",
       "      <th>Temperature</th>\n",
       "    </tr>\n",
       "  </thead>\n",
       "  <tbody>\n",
       "    <tr>\n",
       "      <th>0</th>\n",
       "      <td>M</td>\n",
       "      <td>298.1</td>\n",
       "      <td>308.6</td>\n",
       "      <td>1551</td>\n",
       "      <td>42.8</td>\n",
       "      <td>0</td>\n",
       "      <td>0</td>\n",
       "      <td>No Failure</td>\n",
       "      <td>66382.8</td>\n",
       "      <td>0.0</td>\n",
       "      <td>10.5</td>\n",
       "    </tr>\n",
       "    <tr>\n",
       "      <th>1</th>\n",
       "      <td>L</td>\n",
       "      <td>298.2</td>\n",
       "      <td>308.7</td>\n",
       "      <td>1408</td>\n",
       "      <td>46.3</td>\n",
       "      <td>3</td>\n",
       "      <td>0</td>\n",
       "      <td>No Failure</td>\n",
       "      <td>65190.4</td>\n",
       "      <td>138.9</td>\n",
       "      <td>10.5</td>\n",
       "    </tr>\n",
       "  </tbody>\n",
       "</table>\n",
       "</div>"
      ],
      "text/plain": [
       "  Type  Air temperature [K]  Process temperature [K]  Rotational speed [rpm]  \\\n",
       "0    M                298.1                    308.6                    1551   \n",
       "1    L                298.2                    308.7                    1408   \n",
       "\n",
       "   Torque [Nm]  Tool wear [min]  Target Failure Type    Power  Overstrain  \\\n",
       "0         42.8                0       0   No Failure  66382.8         0.0   \n",
       "1         46.3                3       0   No Failure  65190.4       138.9   \n",
       "\n",
       "   Temperature  \n",
       "0         10.5  \n",
       "1         10.5  "
      ]
     },
     "execution_count": 4,
     "metadata": {},
     "output_type": "execute_result"
    }
   ],
   "source": [
    "# droping nominal numerical features\n",
    "df = data.drop(['UDI','Product ID'], axis = 1)\n",
    "df.head(2)"
   ]
  },
  {
   "cell_type": "code",
   "execution_count": 5,
   "id": "e169db38",
   "metadata": {},
   "outputs": [
    {
     "data": {
      "text/plain": [
       "348"
      ]
     },
     "execution_count": 5,
     "metadata": {},
     "output_type": "execute_result"
    }
   ],
   "source": [
    "# total count of failures except No Failure\n",
    "df_f_type = df[df['Failure Type'].isin(['Power Failure', 'Overstrain Failure', 'Heat Dissipation Failure', 'Tool Wear Failure', 'Random Failures'])]\n",
    "len(df_f_type)"
   ]
  },
  {
   "cell_type": "code",
   "execution_count": 6,
   "id": "206b0edb",
   "metadata": {},
   "outputs": [
    {
     "data": {
      "text/plain": [
       "((10000, 13), (9973, 11))"
      ]
     },
     "execution_count": 6,
     "metadata": {},
     "output_type": "execute_result"
    }
   ],
   "source": [
    "# dropping wrong/ambiguous values\n",
    "df_failure = df[df['Target']>=1]\n",
    "df_f_true = df_failure[df_failure['Failure Type']!='No Failure']\n",
    "df_no_f_true = df[(df['Failure Type']=='No Failure') & (df['Target']<=0)]\n",
    "df_true = pd.concat([df_f_true,df_no_f_true]).reset_index(drop=True)\n",
    "data.shape ,df_true.shape"
   ]
  },
  {
   "cell_type": "markdown",
   "id": "bc5336de",
   "metadata": {},
   "source": [
    "## Data Transformation"
   ]
  },
  {
   "cell_type": "code",
   "execution_count": 7,
   "id": "1dbe4439",
   "metadata": {},
   "outputs": [
    {
     "name": "stdout",
     "output_type": "stream",
     "text": [
      "['Heat Dissipation Failure' 'No Failure' 'Overstrain Failure'\n",
      " 'Power Failure' 'Tool Wear Failure']\n"
     ]
    },
    {
     "data": {
      "text/html": [
       "<div>\n",
       "<style scoped>\n",
       "    .dataframe tbody tr th:only-of-type {\n",
       "        vertical-align: middle;\n",
       "    }\n",
       "\n",
       "    .dataframe tbody tr th {\n",
       "        vertical-align: top;\n",
       "    }\n",
       "\n",
       "    .dataframe thead th {\n",
       "        text-align: right;\n",
       "    }\n",
       "</style>\n",
       "<table border=\"1\" class=\"dataframe\">\n",
       "  <thead>\n",
       "    <tr style=\"text-align: right;\">\n",
       "      <th></th>\n",
       "      <th>Type</th>\n",
       "      <th>Air temperature [K]</th>\n",
       "      <th>Process temperature [K]</th>\n",
       "      <th>Rotational speed [rpm]</th>\n",
       "      <th>Torque [Nm]</th>\n",
       "      <th>Tool wear [min]</th>\n",
       "      <th>Target</th>\n",
       "      <th>Failure Type</th>\n",
       "      <th>Power</th>\n",
       "      <th>Overstrain</th>\n",
       "      <th>Temperature</th>\n",
       "    </tr>\n",
       "  </thead>\n",
       "  <tbody>\n",
       "    <tr>\n",
       "      <th>0</th>\n",
       "      <td>L</td>\n",
       "      <td>298.9</td>\n",
       "      <td>309.1</td>\n",
       "      <td>2861</td>\n",
       "      <td>4.6</td>\n",
       "      <td>143</td>\n",
       "      <td>1</td>\n",
       "      <td>3</td>\n",
       "      <td>13160.6</td>\n",
       "      <td>657.8</td>\n",
       "      <td>10.2</td>\n",
       "    </tr>\n",
       "    <tr>\n",
       "      <th>1</th>\n",
       "      <td>L</td>\n",
       "      <td>298.9</td>\n",
       "      <td>309.0</td>\n",
       "      <td>1410</td>\n",
       "      <td>65.7</td>\n",
       "      <td>191</td>\n",
       "      <td>1</td>\n",
       "      <td>3</td>\n",
       "      <td>92637.0</td>\n",
       "      <td>12548.7</td>\n",
       "      <td>10.1</td>\n",
       "    </tr>\n",
       "    <tr>\n",
       "      <th>2</th>\n",
       "      <td>L</td>\n",
       "      <td>298.8</td>\n",
       "      <td>308.9</td>\n",
       "      <td>1455</td>\n",
       "      <td>41.3</td>\n",
       "      <td>208</td>\n",
       "      <td>1</td>\n",
       "      <td>4</td>\n",
       "      <td>60091.5</td>\n",
       "      <td>8590.4</td>\n",
       "      <td>10.1</td>\n",
       "    </tr>\n",
       "    <tr>\n",
       "      <th>3</th>\n",
       "      <td>L</td>\n",
       "      <td>298.4</td>\n",
       "      <td>308.2</td>\n",
       "      <td>1282</td>\n",
       "      <td>60.7</td>\n",
       "      <td>216</td>\n",
       "      <td>1</td>\n",
       "      <td>2</td>\n",
       "      <td>77817.4</td>\n",
       "      <td>13111.2</td>\n",
       "      <td>9.8</td>\n",
       "    </tr>\n",
       "    <tr>\n",
       "      <th>4</th>\n",
       "      <td>L</td>\n",
       "      <td>298.3</td>\n",
       "      <td>308.1</td>\n",
       "      <td>1412</td>\n",
       "      <td>52.3</td>\n",
       "      <td>218</td>\n",
       "      <td>1</td>\n",
       "      <td>2</td>\n",
       "      <td>73847.6</td>\n",
       "      <td>11401.4</td>\n",
       "      <td>9.8</td>\n",
       "    </tr>\n",
       "  </tbody>\n",
       "</table>\n",
       "</div>"
      ],
      "text/plain": [
       "  Type  Air temperature [K]  Process temperature [K]  Rotational speed [rpm]  \\\n",
       "0    L                298.9                    309.1                    2861   \n",
       "1    L                298.9                    309.0                    1410   \n",
       "2    L                298.8                    308.9                    1455   \n",
       "3    L                298.4                    308.2                    1282   \n",
       "4    L                298.3                    308.1                    1412   \n",
       "\n",
       "   Torque [Nm]  Tool wear [min]  Target  Failure Type    Power  Overstrain  \\\n",
       "0          4.6              143       1             3  13160.6       657.8   \n",
       "1         65.7              191       1             3  92637.0     12548.7   \n",
       "2         41.3              208       1             4  60091.5      8590.4   \n",
       "3         60.7              216       1             2  77817.4     13111.2   \n",
       "4         52.3              218       1             2  73847.6     11401.4   \n",
       "\n",
       "   Temperature  \n",
       "0         10.2  \n",
       "1         10.1  \n",
       "2         10.1  \n",
       "3          9.8  \n",
       "4          9.8  "
      ]
     },
     "execution_count": 7,
     "metadata": {},
     "output_type": "execute_result"
    }
   ],
   "source": [
    "# labeling categorical column 'Failure Type' with numerical values.\n",
    "df_ = df_true.copy()\n",
    "encoder = LabelEncoder()\n",
    "df_['Failure Type'] = encoder.fit_transform(df_['Failure Type'])\n",
    "print(encoder.classes_)\n",
    "df_.head()"
   ]
  },
  {
   "cell_type": "markdown",
   "id": "453cc3f4",
   "metadata": {},
   "source": [
    "# Data Preparation for Multi-Class Classification"
   ]
  },
  {
   "cell_type": "code",
   "execution_count": 8,
   "id": "f3543e99",
   "metadata": {},
   "outputs": [
    {
     "data": {
      "text/plain": [
       "((7978, 8), (7978,), (1995, 8), (1995,))"
      ]
     },
     "execution_count": 8,
     "metadata": {},
     "output_type": "execute_result"
    }
   ],
   "source": [
    "# train_test_split based on Failure Type column and 80:20 ratio\n",
    "X = df_.drop(columns=['Target', 'Failure Type',\"Type\"])\n",
    "y = df_['Failure Type']\n",
    "X_train, X_test, y_train, y_test = train_test_split(X,y, test_size = 0.20, random_state=1, stratify=y)\n",
    "X_train.shape, y_train.shape, X_test.shape, y_test.shape\n",
    "\n",
    "# reason to drop type is that other failure types are not predicted right due to noise\n",
    "# so it is to reduce dimensionality"
   ]
  },
  {
   "cell_type": "code",
   "execution_count": 9,
   "id": "7ad1b91d",
   "metadata": {},
   "outputs": [
    {
     "data": {
      "text/plain": [
       "((6382, 8), (1596, 8), (1995, 8), (6382,), (1596,), (1995,))"
      ]
     },
     "execution_count": 9,
     "metadata": {},
     "output_type": "execute_result"
    }
   ],
   "source": [
    "# creating validation subset\n",
    "X_train, X_val, y_train, y_val = train_test_split(X_train, y_train, test_size=0.20, random_state=0)\n",
    "X_train.shape, X_val.shape, X_test.shape, y_train.shape, y_val.shape, y_test.shape"
   ]
  },
  {
   "cell_type": "markdown",
   "id": "3fa506db",
   "metadata": {},
   "source": [
    "## Feature Scaling"
   ]
  },
  {
   "cell_type": "code",
   "execution_count": 10,
   "id": "759bd1b6",
   "metadata": {},
   "outputs": [],
   "source": [
    "# normalizing continuous features\n",
    "scaler = MinMaxScaler()\n",
    "X_train = scaler.fit_transform(X_train)\n",
    "X_val = scaler.fit_transform(X_val)\n",
    "X_test = scaler.fit_transform(X_test)"
   ]
  },
  {
   "cell_type": "markdown",
   "id": "c7318521",
   "metadata": {},
   "source": [
    "# Imbalance Treatment"
   ]
  },
  {
   "cell_type": "code",
   "execution_count": 11,
   "id": "c4a28d99",
   "metadata": {},
   "outputs": [
    {
     "data": {
      "text/plain": [
       "array([17.72777778,  0.2069726 , 23.20727273, 20.58709677, 49.09230769])"
      ]
     },
     "execution_count": 11,
     "metadata": {},
     "output_type": "execute_result"
    }
   ],
   "source": [
    "from sklearn.utils import class_weight\n",
    "class_weight = class_weight.compute_class_weight(class_weight = \"balanced\",\n",
    "                                                classes = np.unique(y_train),\n",
    "                                                y = y_train)\n",
    "class_weight"
   ]
  },
  {
   "cell_type": "code",
   "execution_count": 12,
   "id": "2dd462a6",
   "metadata": {},
   "outputs": [
    {
     "data": {
      "text/plain": [
       "{0: 17.727777777777778,\n",
       " 1: 0.20697259607588778,\n",
       " 2: 23.207272727272727,\n",
       " 3: 20.587096774193547,\n",
       " 4: 49.09230769230769}"
      ]
     },
     "execution_count": 12,
     "metadata": {},
     "output_type": "execute_result"
    }
   ],
   "source": [
    "class_weight = dict(zip(np.unique(y_train), class_weight))\n",
    "class_weight"
   ]
  },
  {
   "cell_type": "code",
   "execution_count": 13,
   "id": "57a3a704",
   "metadata": {},
   "outputs": [
    {
     "data": {
      "text/plain": [
       "1    6167\n",
       "0      72\n",
       "3      62\n",
       "2      55\n",
       "4      26\n",
       "Name: Failure Type, dtype: int64"
      ]
     },
     "execution_count": 13,
     "metadata": {},
     "output_type": "execute_result"
    }
   ],
   "source": [
    "y_train.value_counts()"
   ]
  },
  {
   "cell_type": "markdown",
   "id": "6ee2ab87",
   "metadata": {},
   "source": [
    "# Model Testing and Evaluation"
   ]
  },
  {
   "cell_type": "code",
   "execution_count": null,
   "id": "c338b2d8",
   "metadata": {},
   "outputs": [],
   "source": [
    "# baseline model for comparison\n",
    "dummy = DummyClassifier()\n",
    "dummy.fit(X_train, y_train)\n",
    "dummy.score(X_train, y_train)"
   ]
  },
  {
   "cell_type": "code",
   "execution_count": null,
   "id": "030cca56",
   "metadata": {},
   "outputs": [],
   "source": [
    "# to check if problem can be solved by regression\n",
    "lr = LinearRegression()\n",
    "lr.fit(X_train, y_train)\n",
    "lr.score(X_train, y_train)"
   ]
  },
  {
   "cell_type": "code",
   "execution_count": 14,
   "id": "a4b67863",
   "metadata": {},
   "outputs": [],
   "source": [
    "# function for model evaluation\n",
    "from sklearn.multiclass import OneVsRestClassifier\n",
    "def evaluate(model):\n",
    "    print('Model Name ', model)\n",
    "    score_train = cross_val_score(OneVsRestClassifier(model), X_train, y_train, cv=3,scoring = 'f1_macro')\n",
    "    print('F1_macro: %.3f (%.3f)' % (mean(score_train), std(score_train)))\n",
    "    score_val = cross_val_score(model, X_val, y_val, cv=3,scoring = 'f1_macro')\n",
    "    print('F1_macro: %.3f (%.3f)' % (mean(score_val), std(score_val)))"
   ]
  },
  {
   "cell_type": "code",
   "execution_count": 15,
   "id": "a2a174b2",
   "metadata": {},
   "outputs": [],
   "source": [
    "# models\n",
    "lreg = LogisticRegression(class_weight=class_weight)\n",
    "svc = SVC(class_weight=class_weight)\n",
    "dt = DecisionTreeClassifier(class_weight=class_weight)\n",
    "rf = RandomForestClassifier(class_weight=class_weight)\n",
    "knn = KNeighborsClassifier()\n",
    "gb = GradientBoostingClassifier()\n",
    "nb = GaussianNB()\n",
    "ada = AdaBoostClassifier()\n",
    "models=[lreg, svc, dt, rf, knn, gb, nb, ada]"
   ]
  },
  {
   "cell_type": "code",
   "execution_count": 16,
   "id": "22779a6a",
   "metadata": {},
   "outputs": [
    {
     "name": "stdout",
     "output_type": "stream",
     "text": [
      "Model Name  LogisticRegression(class_weight={0: 17.727777777777778, 1: 0.20697259607588778,\n",
      "                                 2: 23.207272727272727, 3: 20.587096774193547,\n",
      "                                 4: 49.09230769230769})\n",
      "F1_macro: nan (nan)\n",
      "F1_macro: 0.361 (0.031)\n",
      "Model Name  SVC(class_weight={0: 17.727777777777778, 1: 0.20697259607588778,\n",
      "                  2: 23.207272727272727, 3: 20.587096774193547,\n",
      "                  4: 49.09230769230769})\n",
      "F1_macro: nan (nan)\n",
      "F1_macro: 0.472 (0.055)\n",
      "Model Name  DecisionTreeClassifier(class_weight={0: 17.727777777777778,\n",
      "                                     1: 0.20697259607588778,\n",
      "                                     2: 23.207272727272727,\n",
      "                                     3: 20.587096774193547,\n",
      "                                     4: 49.09230769230769})\n",
      "F1_macro: nan (nan)\n",
      "F1_macro: 0.599 (0.028)\n",
      "Model Name  RandomForestClassifier(class_weight={0: 17.727777777777778,\n",
      "                                     1: 0.20697259607588778,\n",
      "                                     2: 23.207272727272727,\n",
      "                                     3: 20.587096774193547,\n",
      "                                     4: 49.09230769230769})\n",
      "F1_macro: nan (nan)\n",
      "F1_macro: 0.573 (0.067)\n",
      "Model Name  KNeighborsClassifier()\n",
      "F1_macro: 0.419 (0.022)\n",
      "F1_macro: 0.279 (0.031)\n",
      "Model Name  GradientBoostingClassifier()\n",
      "F1_macro: 0.746 (0.023)\n",
      "F1_macro: 0.721 (0.021)\n",
      "Model Name  GaussianNB()\n",
      "F1_macro: 0.497 (0.008)\n",
      "F1_macro: 0.586 (0.068)\n",
      "Model Name  AdaBoostClassifier()\n",
      "F1_macro: 0.703 (0.019)\n",
      "F1_macro: 0.381 (0.012)\n",
      "Model Name  SGDClassifier(class_weight={0: 17.727777777777778, 1: 0.20697259607588778,\n",
      "                            2: 23.207272727272727, 3: 20.587096774193547,\n",
      "                            4: 49.09230769230769})\n",
      "F1_macro: nan (nan)\n",
      "F1_macro: 0.425 (0.094)\n"
     ]
    }
   ],
   "source": [
    "# model evaluation\n",
    "for model in models:\n",
    "    evaluate(model)"
   ]
  },
  {
   "cell_type": "code",
   "execution_count": 19,
   "id": "edfd30ad",
   "metadata": {},
   "outputs": [],
   "source": [
    "def report(model):\n",
    "    print('Model Name ', model)\n",
    "    model.fit(X_train, y_train)\n",
    "    y_pre = model.predict(X_test)\n",
    "    print(classification_report(y_test, y_pre))\n",
    "    cm = confusion_matrix(y_test, y_pre, labels=model.classes_)\n",
    "    disp = ConfusionMatrixDisplay(confusion_matrix=cm, display_labels=model.classes_)\n",
    "    disp.plot()\n",
    "    plt.show()\n",
    "    print('____________________________________________________________________________')"
   ]
  },
  {
   "cell_type": "code",
   "execution_count": 20,
   "id": "d1ed3c4f",
   "metadata": {
    "scrolled": false
   },
   "outputs": [
    {
     "name": "stdout",
     "output_type": "stream",
     "text": [
      "Model Name  LogisticRegression(class_weight={0: 17.727777777777778, 1: 0.20697259607588778,\n",
      "                                 2: 23.207272727272727, 3: 20.587096774193547,\n",
      "                                 4: 49.09230769230769})\n",
      "              precision    recall  f1-score   support\n",
      "\n",
      "           0       0.17      0.95      0.29        22\n",
      "           1       1.00      0.75      0.86      1929\n",
      "           2       0.18      1.00      0.31        16\n",
      "           3       0.21      0.84      0.33        19\n",
      "           4       0.02      0.56      0.04         9\n",
      "\n",
      "    accuracy                           0.76      1995\n",
      "   macro avg       0.32      0.82      0.36      1995\n",
      "weighted avg       0.97      0.76      0.84      1995\n",
      "\n"
     ]
    },
    {
     "data": {
      "image/png": "[encoded data removed]",
      "text/plain": [
       "<Figure size 432x288 with 2 Axes>"
      ]
     },
     "metadata": {},
     "output_type": "display_data"
    },
    {
     "name": "stdout",
     "output_type": "stream",
     "text": [
      "____________________________________________________________________________\n",
      "Model Name  SVC(class_weight={0: 17.727777777777778, 1: 0.20697259607588778,\n",
      "                  2: 23.207272727272727, 3: 20.587096774193547,\n",
      "                  4: 49.09230769230769})\n",
      "              precision    recall  f1-score   support\n",
      "\n",
      "           0       0.32      0.95      0.48        22\n",
      "           1       1.00      0.82      0.90      1929\n",
      "           2       0.25      0.88      0.38        16\n",
      "           3       0.24      0.84      0.37        19\n",
      "           4       0.03      0.67      0.05         9\n",
      "\n",
      "    accuracy                           0.82      1995\n",
      "   macro avg       0.37      0.83      0.44      1995\n",
      "weighted avg       0.97      0.82      0.88      1995\n",
      "\n"
     ]
    },
    {
     "data": {
      "image/png": "[encoded data removed]",
      "text/plain": [
       "<Figure size 432x288 with 2 Axes>"
      ]
     },
     "metadata": {},
     "output_type": "display_data"
    },
    {
     "name": "stdout",
     "output_type": "stream",
     "text": [
      "____________________________________________________________________________\n",
      "Model Name  DecisionTreeClassifier(class_weight={0: 17.727777777777778,\n",
      "                                     1: 0.20697259607588778,\n",
      "                                     2: 23.207272727272727,\n",
      "                                     3: 20.587096774193547,\n",
      "                                     4: 49.09230769230769})\n",
      "              precision    recall  f1-score   support\n",
      "\n",
      "           0       0.75      0.27      0.40        22\n",
      "           1       0.98      0.89      0.93      1929\n",
      "           2       0.37      0.81      0.51        16\n",
      "           3       0.07      0.53      0.12        19\n",
      "           4       0.05      0.33      0.09         9\n",
      "\n",
      "    accuracy                           0.88      1995\n",
      "   macro avg       0.44      0.57      0.41      1995\n",
      "weighted avg       0.96      0.88      0.91      1995\n",
      "\n"
     ]
    },
    {
     "data": {
      "image/png": "[encoded data removed]",
      "text/plain": [
       "<Figure size 432x288 with 2 Axes>"
      ]
     },
     "metadata": {},
     "output_type": "display_data"
    },
    {
     "name": "stdout",
     "output_type": "stream",
     "text": [
      "____________________________________________________________________________\n",
      "Model Name  RandomForestClassifier(class_weight={0: 17.727777777777778,\n",
      "                                     1: 0.20697259607588778,\n",
      "                                     2: 23.207272727272727,\n",
      "                                     3: 20.587096774193547,\n",
      "                                     4: 49.09230769230769})\n",
      "              precision    recall  f1-score   support\n",
      "\n",
      "           0       1.00      0.23      0.37        22\n",
      "           1       0.98      0.98      0.98      1929\n",
      "           2       0.53      0.56      0.55        16\n",
      "           3       0.26      0.53      0.34        19\n",
      "           4       0.00      0.00      0.00         9\n",
      "\n",
      "    accuracy                           0.96      1995\n",
      "   macro avg       0.55      0.46      0.45      1995\n",
      "weighted avg       0.97      0.96      0.96      1995\n",
      "\n"
     ]
    },
    {
     "data": {
      "image/png": "[encoded data removed]",
      "text/plain": [
       "<Figure size 432x288 with 2 Axes>"
      ]
     },
     "metadata": {},
     "output_type": "display_data"
    },
    {
     "name": "stdout",
     "output_type": "stream",
     "text": [
      "____________________________________________________________________________\n",
      "Model Name  KNeighborsClassifier()\n",
      "              precision    recall  f1-score   support\n",
      "\n",
      "           0       0.71      0.23      0.34        22\n",
      "           1       0.98      0.99      0.99      1929\n",
      "           2       0.56      0.56      0.56        16\n",
      "           3       0.46      0.32      0.37        19\n",
      "           4       0.00      0.00      0.00         9\n",
      "\n",
      "    accuracy                           0.97      1995\n",
      "   macro avg       0.54      0.42      0.45      1995\n",
      "weighted avg       0.96      0.97      0.97      1995\n",
      "\n"
     ]
    },
    {
     "data": {
      "image/png": "[encoded data removed]",
      "text/plain": [
       "<Figure size 432x288 with 2 Axes>"
      ]
     },
     "metadata": {},
     "output_type": "display_data"
    },
    {
     "name": "stdout",
     "output_type": "stream",
     "text": [
      "____________________________________________________________________________\n",
      "Model Name  GradientBoostingClassifier()\n",
      "              precision    recall  f1-score   support\n",
      "\n",
      "           0       0.75      0.27      0.40        22\n",
      "           1       0.98      0.89      0.94      1929\n",
      "           2       0.17      0.94      0.29        16\n",
      "           3       0.07      0.53      0.12        19\n",
      "           4       0.00      0.00      0.00         9\n",
      "\n",
      "    accuracy                           0.88      1995\n",
      "   macro avg       0.39      0.53      0.35      1995\n",
      "weighted avg       0.96      0.88      0.91      1995\n",
      "\n"
     ]
    },
    {
     "data": {
      "image/png": "[encoded data removed]",
      "text/plain": [
       "<Figure size 432x288 with 2 Axes>"
      ]
     },
     "metadata": {},
     "output_type": "display_data"
    },
    {
     "name": "stdout",
     "output_type": "stream",
     "text": [
      "____________________________________________________________________________\n",
      "Model Name  GaussianNB()\n",
      "              precision    recall  f1-score   support\n",
      "\n",
      "           0       0.44      0.50      0.47        22\n",
      "           1       0.99      0.92      0.95      1929\n",
      "           2       0.29      0.88      0.44        16\n",
      "           3       0.09      0.53      0.15        19\n",
      "           4       0.20      0.33      0.25         9\n",
      "\n",
      "    accuracy                           0.91      1995\n",
      "   macro avg       0.40      0.63      0.45      1995\n",
      "weighted avg       0.97      0.91      0.93      1995\n",
      "\n"
     ]
    },
    {
     "data": {
      "image/png": "[encoded data removed]",
      "text/plain": [
       "<Figure size 432x288 with 2 Axes>"
      ]
     },
     "metadata": {},
     "output_type": "display_data"
    },
    {
     "name": "stdout",
     "output_type": "stream",
     "text": [
      "____________________________________________________________________________\n",
      "Model Name  AdaBoostClassifier()\n",
      "              precision    recall  f1-score   support\n",
      "\n",
      "           0       0.00      0.00      0.00        22\n",
      "           1       0.98      0.88      0.93      1929\n",
      "           2       0.15      1.00      0.26        16\n",
      "           3       0.07      0.53      0.12        19\n",
      "           4       0.00      0.00      0.00         9\n",
      "\n",
      "    accuracy                           0.87      1995\n",
      "   macro avg       0.24      0.48      0.26      1995\n",
      "weighted avg       0.95      0.87      0.90      1995\n",
      "\n"
     ]
    },
    {
     "data": {
      "image/png": "[encoded data removed]",
      "text/plain": [
       "<Figure size 432x288 with 2 Axes>"
      ]
     },
     "metadata": {},
     "output_type": "display_data"
    },
    {
     "name": "stdout",
     "output_type": "stream",
     "text": [
      "____________________________________________________________________________\n",
      "Model Name  SGDClassifier(class_weight={0: 17.727777777777778, 1: 0.20697259607588778,\n",
      "                            2: 23.207272727272727, 3: 20.587096774193547,\n",
      "                            4: 49.09230769230769})\n",
      "              precision    recall  f1-score   support\n",
      "\n",
      "           0       0.24      0.68      0.36        22\n",
      "           1       1.00      0.93      0.96      1929\n",
      "           2       0.46      1.00      0.63        16\n",
      "           3       0.44      0.63      0.52        19\n",
      "           4       0.06      0.44      0.11         9\n",
      "\n",
      "    accuracy                           0.93      1995\n",
      "   macro avg       0.44      0.74      0.52      1995\n",
      "weighted avg       0.97      0.93      0.95      1995\n",
      "\n"
     ]
    },
    {
     "data": {
      "image/png": "[encoded data removed]",
      "text/plain": [
       "<Figure size 432x288 with 2 Axes>"
      ]
     },
     "metadata": {},
     "output_type": "display_data"
    },
    {
     "name": "stdout",
     "output_type": "stream",
     "text": [
      "____________________________________________________________________________\n"
     ]
    }
   ],
   "source": [
    "for model in models:\n",
    "    report(model)"
   ]
  },
  {
   "cell_type": "markdown",
   "id": "89cc4c08",
   "metadata": {},
   "source": [
    "Due to high imbalance in dataset, validation subset which is not resampled is not performing well. Therefore, hyperparameter tuning is needed for good performance for above models. Also the recall is very important so the models with good recall score are opted."
   ]
  },
  {
   "cell_type": "markdown",
   "id": "4363dd69",
   "metadata": {},
   "source": [
    "# Hyperparameter Tuning"
   ]
  },
  {
   "cell_type": "code",
   "execution_count": null,
   "id": "3c5f5c6e",
   "metadata": {},
   "outputs": [],
   "source": [
    "# Gradient Boosting\n",
    "grid = {'n_estimators':[10,100,1000], 'max_depth':[3,5,15], 'learning_rate': [0.01, 0.1]}\n",
    "gb_gs = GridSearchCV(gb, grid, cv=10)\n",
    "gb_gs.fit(X_train, y_train)\n",
    "print('Best Parameters:', gb_gs.best_params_)\n",
    "print('Accuracy:', gb_gs.best_score_)"
   ]
  },
  {
   "cell_type": "code",
   "execution_count": null,
   "id": "64cfdf7b",
   "metadata": {},
   "outputs": [],
   "source": [
    "# Random Forest\n",
    "grid = {'n_estimators':[10,100,1000], 'max_depth':[3,5,15], 'class_weight':['balanced']}\n",
    "rf_gs = GridSearchCV(rf, grid, cv=10)\n",
    "rf_gs.fit(X_train, y_train)\n",
    "print('Best Parameters:', rf_gs.best_params_)\n",
    "print('Accuracy:', rf_gs.best_score_)"
   ]
  },
  {
   "cell_type": "code",
   "execution_count": null,
   "id": "c1f5fc3f",
   "metadata": {},
   "outputs": [],
   "source": [
    "# K-Nearest Neighbors\n",
    "grid = {'n_neighbors':[1,21,2]}\n",
    "knn_gs = GridSearchCV(knn, grid, cv=10)\n",
    "knn_gs.fit(X_train, y_train)\n",
    "print('Best Parameters:', knn_gs.best_params_)\n",
    "print('Accuracy:', knn_gs.best_score_)"
   ]
  },
  {
   "cell_type": "code",
   "execution_count": 21,
   "id": "4d15d043",
   "metadata": {},
   "outputs": [
    {
     "name": "stdout",
     "output_type": "stream",
     "text": [
      "Best Parameters: {'C': 10, 'gamma': 0.1, 'kernel': 'rbf'}\n",
      "Accuracy: 0.8394005622028935\n"
     ]
    }
   ],
   "source": [
    "grid = { 'kernel':['rbf','poly'], 'C':[0.1, 1, 10], 'gamma':[0.1, 0.01, 0.001]}\n",
    "svc_gs = GridSearchCV(svc, grid, cv=10)\n",
    "svc_gs.fit(X_train, y_train)\n",
    "print('Best Parameters:', svc_gs.best_params_)\n",
    "print('Accuracy:', svc_gs.best_score_)"
   ]
  },
  {
   "cell_type": "markdown",
   "id": "7f3440a0",
   "metadata": {},
   "source": [
    "# Model Evaluation with Optimization"
   ]
  },
  {
   "cell_type": "code",
   "execution_count": null,
   "id": "2f63a365",
   "metadata": {},
   "outputs": [],
   "source": [
    "# models with tuned parameters\n",
    "# restart kernel after hyperparmeter tuning to avoid overfitting\n",
    "gb = GradientBoostingClassifier(n_estimators=1000, max_depth=5, random_state=0)\n",
    "rf = RandomForestClassifier(n_estimators=100, max_depth=15)\n",
    "knn = KNeighborsClassifier(n_neighbors=4)\n",
    "svc = SVC(C=10, gamma=0.1, kernel= 'rbf', class_weight=class_weight, random_state=0)\n",
    "\n",
    "models_best=[svc, rf, knn, gb]"
   ]
  },
  {
   "cell_type": "code",
   "execution_count": null,
   "id": "45e1f902",
   "metadata": {},
   "outputs": [],
   "source": [
    "# model evaluation\n",
    "# execute evaluate function for this code to run\n",
    "for model in models_best:\n",
    "    evaluate(model)"
   ]
  },
  {
   "cell_type": "markdown",
   "id": "404fa2b8",
   "metadata": {},
   "source": [
    "# Model Building"
   ]
  },
  {
   "cell_type": "code",
   "execution_count": 23,
   "id": "38224114",
   "metadata": {},
   "outputs": [],
   "source": [
    "# SVC with one-vs-rest approach and optimized is used as final model for evaluation\n",
    "final_model = SVC(kernel='rbf', C=10, gamma=0.1, class_weight=class_weight, random_state=0) \n",
    "# source (https://scikit-learn.org/stable/modules/generated/sklearn.svm.SVC.html)"
   ]
  },
  {
   "cell_type": "markdown",
   "id": "46380b0f",
   "metadata": {},
   "source": [
    "## Model Evaluation"
   ]
  },
  {
   "cell_type": "code",
   "execution_count": null,
   "id": "601fa338",
   "metadata": {},
   "outputs": [],
   "source": [
    "# 3 fold cross validation\n",
    "score_train = cross_val_score(final_model, X_train, y_train, cv=3, scoring = 'f1_macro')\n",
    "print('F1_macro: %.3f (%.3f)' % (mean(score_train), std(score_train)))"
   ]
  },
  {
   "cell_type": "code",
   "execution_count": 24,
   "id": "55d3f9dd",
   "metadata": {},
   "outputs": [
    {
     "name": "stdout",
     "output_type": "stream",
     "text": [
      "              precision    recall  f1-score   support\n",
      "\n",
      "           0       0.21      0.94      0.34        18\n",
      "           1       1.00      0.76      0.86      1547\n",
      "           2       0.07      1.00      0.13         7\n",
      "           3       0.31      0.93      0.46        14\n",
      "           4       0.03      0.60      0.06        10\n",
      "\n",
      "    accuracy                           0.76      1596\n",
      "   macro avg       0.32      0.85      0.37      1596\n",
      "weighted avg       0.97      0.76      0.84      1596\n",
      "\n"
     ]
    }
   ],
   "source": [
    "# restart kernel and clear all outputs if above code line is executed to avoid overfitting\n",
    "# model validation\n",
    "# classification report\n",
    "final_model.fit(X_train, y_train)\n",
    "y_pred = final_model.predict(X_val)\n",
    "print(classification_report(y_val, y_pred))"
   ]
  },
  {
   "cell_type": "code",
   "execution_count": 25,
   "id": "28386b90",
   "metadata": {},
   "outputs": [
    {
     "data": {
      "image/png": "[encoded data removed]",
      "text/plain": [
       "<Figure size 432x288 with 2 Axes>"
      ]
     },
     "metadata": {},
     "output_type": "display_data"
    }
   ],
   "source": [
    "# confusion matrix\n",
    "cm = confusion_matrix(y_val, y_pred, labels=final_model.classes_)\n",
    "disp = ConfusionMatrixDisplay(confusion_matrix=cm, display_labels=final_model.classes_)\n",
    "disp.plot()\n",
    "plt.suptitle('Final Model')\n",
    "plt.show()"
   ]
  },
  {
   "cell_type": "markdown",
   "id": "1e2f9064",
   "metadata": {},
   "source": [
    "The model is performing satisfactory with desired recall. Its the final model and shall now be validated on unseen data."
   ]
  },
  {
   "cell_type": "code",
   "execution_count": null,
   "id": "e43494c4",
   "metadata": {},
   "outputs": [],
   "source": []
  }
 ],
 "metadata": {
  "kernelspec": {
   "display_name": "Python 3 (ipykernel)",
   "language": "python",
   "name": "python3"
  },
  "language_info": {
   "codemirror_mode": {
    "name": "ipython",
    "version": 3
   },
   "file_extension": ".py",
   "mimetype": "text/x-python",
   "name": "python",
   "nbconvert_exporter": "python",
   "pygments_lexer": "ipython3",
   "version": "3.9.12"
  }
 },
 "nbformat": 4,
 "nbformat_minor": 5
}
